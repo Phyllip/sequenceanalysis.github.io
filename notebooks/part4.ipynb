{
 "cells": [
  {
   "cell_type": "markdown",
   "metadata": {},
   "source": [
    "# Bayesian hypotheses comparison on sequential data with HypTrails\n",
    "\n",
    "In this tutorial, we present the HypTrails approach that allows to compare hypotheses about sequential data. For more information, please also refer to an <a href=\"http://nbviewer.jupyter.org/github/psinger/HypTrails/blob/master/tutorial/hyptrails_tutorial.ipynb\">extended HypTrails notebook</a> that also covers Bayesian basics."
   ]
  },
  {
   "cell_type": "markdown",
   "metadata": {},
   "source": [
    "## HypTrails\n",
    "\n",
    "First, we implement HypTrails."
   ]
  },
  {
   "cell_type": "code",
   "execution_count": 1,
   "metadata": {
    "collapsed": false
   },
   "outputs": [],
   "source": [
    "# further implementations can be found:\n",
    "# Python: https://github.com/psinger/hyptrails\n",
    "# Java: https://bitbucket.org/florian_lemmerich/hyptrails4j\n",
    "# Apache spark: http://dmir.org/sparktrails/\n",
    "# also see: http://www.philippsinger.info/hyptrails/\n",
    "\n",
    "from __future__ import division\n",
    "\n",
    "import itertools\n",
    "from scipy.sparse import csr_matrix\n",
    "from scipy.special import gammaln\n",
    "from collections import defaultdict\n",
    "from sklearn.preprocessing import normalize\n",
    "import numpy as np\n",
    "\n",
    "class HypTrails():\n",
    "    \"\"\"\n",
    "    HypTrails\n",
    "    \"\"\"\n",
    "\n",
    "    def __init__(self, vocab=None):\n",
    "        \"\"\"\n",
    "        Constructor for class HypTrails\n",
    "        \n",
    "        Args:\n",
    "            vocab: optional vocabulary mapping states to indices\n",
    "        \"\"\"\n",
    "        \n",
    "        self.vocab = vocab\n",
    "\n",
    "    def fit(self, sequences):\n",
    "        \"\"\"\n",
    "        Function for fitting the Markov Chain model given data\n",
    "        \n",
    "        Args:\n",
    "            sequences: Data of sequences, list of lists\n",
    "        \"\"\"\n",
    "        \n",
    "        # first, we derive all basic states from given sequences\n",
    "        states = set(itertools.chain.from_iterable(sequences))\n",
    "        self.state_count = len(states)\n",
    "\n",
    "        # dictionary of dictionaries for counting transitions between states\n",
    "        transitions = defaultdict(lambda : defaultdict(float))\n",
    "        \n",
    "        # vocabulary for mapping states to indices\n",
    "        if self.vocab is None:\n",
    "            self.vocab = dict((v,k) for k,v in enumerate(states))\n",
    "    \n",
    "        i_indices = []\n",
    "        j_indices = []\n",
    "        values = []\n",
    "\n",
    "        # iterate through sequences\n",
    "        for seq in sequences:\n",
    "            i = 0\n",
    "            # iterate through elements of a sequence\n",
    "            for j in xrange(1, len(seq)):\n",
    "                elemA = seq[i]\n",
    "                elemB = seq[j]\n",
    "                i += 1\n",
    "                \n",
    "                i_indices.append(self.vocab[elemA])\n",
    "                j_indices.append(self.vocab[elemB])\n",
    "                values.append(1.)\n",
    "        \n",
    "        shape = (self.state_count, self.state_count)\n",
    "        self.transitions = csr_matrix((values, (i_indices, j_indices)),\n",
    "                                 shape=shape)\n",
    "\n",
    "        #print \"fit done\"\n",
    "\n",
    "    def evidence(self, hypothesis, k=1, prior=1.):\n",
    "        \"\"\"\n",
    "        Determines Bayesian evidence given fitted model and hypothesis\n",
    "        \n",
    "        Args:\n",
    "            hypothesis: Hypothesis csr matrix, \n",
    "                        indices need to map those of transition matrix\n",
    "            k: Concentration parameter k\n",
    "            prior: proto Dirichlet prior\n",
    "        Returns\n",
    "            evidence\n",
    "        \"\"\"\n",
    "        \n",
    "        pseudo_counts = k * self.state_count\n",
    "        \n",
    "        if hypothesis.size != 0:\n",
    "            # in case of memory issues set copy to False but then care about changed hypothesis matrix\n",
    "            hypothesis = normalize(hypothesis, axis=1, norm='l1', copy=True)\n",
    "\n",
    "            # distribute chips to matrix, row-based approach\n",
    "            hypothesis = hypothesis * pseudo_counts\n",
    "\n",
    "            # also consider those rows which only include zeros\n",
    "            norma = hypothesis.sum(axis=1)\n",
    "            n_zeros,_ = np.where(norma == 0)\n",
    "            hypothesis[n_zeros,:] = chips / self.state_count\n",
    "        else:\n",
    "            # if hypothesis matrix is empty, we can simply increase the proto prior parameter\n",
    "            prior += k\n",
    "        \n",
    "        # transition matrix with additional Dirichlet prior\n",
    "        # not memory efficient\n",
    "        transitions_prior = self.transitions.copy()\n",
    "        transitions_prior = transitions_prior + hypothesis\n",
    "        \n",
    "        # elegantly calculate evidence\n",
    "        evidence = 0\n",
    "        evidence += gammaln(hypothesis.sum(axis=1)+self.state_count*prior).sum()\n",
    "        evidence -= gammaln(self.transitions.sum(axis=1)+hypothesis.sum(axis=1)+self.state_count*prior).sum()\n",
    "        evidence += gammaln(transitions_prior.data+prior).sum()\n",
    "        evidence -= gammaln(hypothesis.data+prior).sum() + (len(transitions_prior.data)-len(hypothesis.data)) * gammaln(prior)\n",
    "        return evidence"
   ]
  },
  {
   "cell_type": "markdown",
   "metadata": {},
   "source": [
    "## Synthetic example\n",
    "\n",
    "Next, let us consider a synthetic example where we know the mechanisms creating given sequences. In detail, we create a synthetic graph and generate synthetic sequences by letting a random walker walk through this graph. We then compare some hypotheses with each other which should further demonstrate the mechanics of HypTrails."
   ]
  },
  {
   "cell_type": "markdown",
   "metadata": {},
   "source": [
    "### Synthetic data generation\n",
    "\n",
    "First, we generate a random graph. To that end, we create a Barabasi-Albert random network with 13 nodes and new nodes are attached to the existing graph with 2 edges. The graph layout is visualized.\n",
    "\n",
    "Note that this network is undirected. However, there are also extensions that allow to generate directed Barabasi-Albert networks. For simplicity, we focus on the undirected case here though."
   ]
  },
  {
   "cell_type": "code",
   "execution_count": 37,
   "metadata": {
    "collapsed": false
   },
   "outputs": [
    {
     "data": {
      "image/png": "[encoded data removed]",
      "text/plain": [
       "<matplotlib.figure.Figure at 0x7fee0795d490>"
      ]
     },
     "metadata": {},
     "output_type": "display_data"
    }
   ],
   "source": [
    "%matplotlib inline\n",
    "\n",
    "import networkx as nx\n",
    "\n",
    "g = nx.barabasi_albert_graph(13, 2)\n",
    "nx.draw(g, with_labels=True, node_size=1000, width=3)"
   ]
  },
  {
   "cell_type": "markdown",
   "metadata": {},
   "source": [
    "Next, we let a random walker run through the network. At each step, the walker chooses one out-link at random. Overall, we generate 100 trails with a length of 5 for each one."
   ]
  },
  {
   "cell_type": "code",
   "execution_count": 20,
   "metadata": {
    "collapsed": false
   },
   "outputs": [
    {
     "name": "stdout",
     "output_type": "stream",
     "text": [
      "[[9, 1, 2, 7, 9], [2, 12, 0, 2, 12], [9, 1, 2, 1, 9], [8, 3, 10, 5, 10], [12, 0, 3, 6, 5], [4, 0, 2, 12, 0], [8, 3, 10, 5, 10], [6, 5, 10, 5, 11], [6, 5, 0, 5, 0], [10, 5, 10, 5, 0]]\n"
     ]
    }
   ],
   "source": [
    "from random import choice\n",
    "\n",
    "# let us create 100 individual sequences\n",
    "i = 100\n",
    "sequences = []\n",
    "while(i>0):\n",
    "    # pick random vertex of G\n",
    "    v = choice(g.nodes())\n",
    "    seq = []\n",
    "    seq.append(v)\n",
    "    # let us try to produce sequences with length 5\n",
    "    x=4\n",
    "    while x>0:\n",
    "        # pick random neighbor node\n",
    "        v = choice(g.neighbors(v))\n",
    "        seq.append(v)\n",
    "        x -= 1\n",
    "\n",
    "    i-=1\n",
    "    sequences.append(seq)\n",
    "\n",
    "# show some trails\n",
    "print sequences[:10]"
   ]
  },
  {
   "cell_type": "markdown",
   "metadata": {},
   "source": [
    "Next, we visualize one random walk on the network which ends in one sequence out of the set of 100 sequences."
   ]
  },
  {
   "cell_type": "code",
   "execution_count": 21,
   "metadata": {
    "collapsed": false
   },
   "outputs": [
    {
     "data": {
      "image/png": "[encoded data removed]",
      "text/plain": [
       "<matplotlib.figure.Figure at 0x7fee079c8490>"
      ]
     },
     "metadata": {},
     "output_type": "display_data"
    }
   ],
   "source": [
    "# find a sequence with distinct nodes for visibility reasons\n",
    "i = 0\n",
    "for seq in sequences:\n",
    "    if len(seq) == len(set(seq)):\n",
    "        break\n",
    "    i += 1\n",
    "\n",
    "node_colors=[]\n",
    "for n in g.nodes():\n",
    "    if n in sequences[i]:\n",
    "        node_colors.append('g')\n",
    "    else:\n",
    "        node_colors.append('r')\n",
    "        \n",
    "edge_colors=[]\n",
    "for e in g.edges():\n",
    "    try:\n",
    "        idx1 = trails[i].index(e[0])\n",
    "        idx2 = trails[i].index(e[1])\n",
    "        if idx1 + 1 == idx2:\n",
    "            edge_colors.append('g')\n",
    "        elif idx2 + 1 == idx1:\n",
    "            edge_colors.append('g')\n",
    "        else:\n",
    "            edge_colors.append('black')\n",
    "    except:\n",
    "        edge_colors.append('black')\n",
    "        continue\n",
    "        \n",
    "nx.draw(g, with_labels=True, node_size=1000, node_color = node_colors, edge_color = edge_colors, width=3)"
   ]
  },
  {
   "cell_type": "markdown",
   "metadata": {},
   "source": [
    "### Fitting\n",
    "\n",
    "Again, we start by fitting the model."
   ]
  },
  {
   "cell_type": "code",
   "execution_count": 22,
   "metadata": {
    "collapsed": true
   },
   "outputs": [],
   "source": [
    "ht = HypTrails()\n",
    "ht.fit(sequences)\n",
    "vocab = ht.vocab"
   ]
  },
  {
   "cell_type": "markdown",
   "metadata": {},
   "source": [
    "### Hypotheses\n",
    "\n",
    "Now, having the data to study, we want to compare some exemplary hypotheses with each other. Each hypothesis should express a certain belief about the mechanisms producing the sequences at hand. Remember that each hypothesis can be expressed via belief in parameters of a Markov chain model. We define some hypotheses next."
   ]
  },
  {
   "cell_type": "markdown",
   "metadata": {},
   "source": [
    "#### Uniform hypothesis\n",
    "\n",
    "As before, the uniform hypothesis can be seen as a baseline and believes in random transitions."
   ]
  },
  {
   "cell_type": "code",
   "execution_count": 23,
   "metadata": {
    "collapsed": true
   },
   "outputs": [],
   "source": [
    "# we can use an empty matrix here as the HypTrails class then \n",
    "# properly distributes the chips for elicitation\n",
    "hyp_uniform = csr_matrix((ht.state_count,ht.state_count))"
   ]
  },
  {
   "cell_type": "markdown",
   "metadata": {},
   "source": [
    "#### Structural hypothesis\n",
    "\n",
    "With this hypothesis we want to express our belief that the sequences at interest have been generated by a walker that randomly chooses hyperlinks to go to the next node---this means that we do not believe in teleportation here."
   ]
  },
  {
   "cell_type": "code",
   "execution_count": 24,
   "metadata": {
    "collapsed": false
   },
   "outputs": [
    {
     "name": "stdout",
     "output_type": "stream",
     "text": [
      "[[ 0.  0.  1.  1.  1.  1.  0.  0.  0.  0.  0.  0.  1.]\n",
      " [ 0.  0.  1.  0.  0.  0.  0.  1.  0.  1.  0.  0.  0.]\n",
      " [ 1.  1.  0.  1.  1.  0.  0.  1.  0.  0.  0.  1.  1.]\n",
      " [ 1.  0.  1.  0.  0.  1.  1.  0.  1.  0.  1.  0.  0.]\n",
      " [ 1.  0.  1.  0.  0.  0.  0.  0.  0.  0.  0.  0.  0.]\n",
      " [ 1.  0.  0.  1.  0.  0.  1.  0.  0.  0.  1.  1.  0.]\n",
      " [ 0.  0.  0.  1.  0.  1.  0.  0.  0.  0.  0.  0.  0.]\n",
      " [ 0.  1.  1.  0.  0.  0.  0.  0.  1.  1.  0.  0.  0.]\n",
      " [ 0.  0.  0.  1.  0.  0.  0.  1.  0.  0.  0.  0.  0.]\n",
      " [ 0.  1.  0.  0.  0.  0.  0.  1.  0.  0.  0.  0.  0.]\n",
      " [ 0.  0.  0.  1.  0.  1.  0.  0.  0.  0.  0.  0.  0.]\n",
      " [ 0.  0.  1.  0.  0.  1.  0.  0.  0.  0.  0.  0.  0.]\n",
      " [ 1.  0.  1.  0.  0.  0.  0.  0.  0.  0.  0.  0.  0.]]\n"
     ]
    }
   ],
   "source": [
    "i_indices = list()\n",
    "j_indices = list()\n",
    "values = list()\n",
    "# let us iterate through all nodes\n",
    "for k,v in vocab.iteritems():\n",
    "    # get the neighbors of each node (i.e., those nodes the current node links to)\n",
    "    # and set the corresponding value of the hypothesis matrix G to 1\n",
    "    for w in g.neighbors(k):\n",
    "        i_indices.append(v)\n",
    "        j_indices.append(vocab[w])\n",
    "        values.append(1)\n",
    "\n",
    "shape = (ht.state_count, ht.state_count)\n",
    "\n",
    "hyp_structural = csr_matrix((values, (i_indices, j_indices)),\n",
    "                             shape=shape, dtype=np.float64)\n",
    "\n",
    "print hyp_structural.todense()"
   ]
  },
  {
   "cell_type": "markdown",
   "metadata": {},
   "source": [
    "#### Data hypothesis\n",
    "\n",
    "Here, we also want to show that a data hypothesis always gets ranked as the most plausible hypothesis and thus, is an upper limit. In detail, a data hypothesis \"cheats\" by taking the actual transitions for expressing beliefs of the hypothesis. Note that extracting information from the data and use it as a hypothesis is no valid approach and this example should only provide a better understanding of the relative behavior of various hypotheses."
   ]
  },
  {
   "cell_type": "code",
   "execution_count": 25,
   "metadata": {
    "collapsed": true
   },
   "outputs": [],
   "source": [
    "hyp_data = ht.transitions.copy()"
   ]
  },
  {
   "cell_type": "markdown",
   "metadata": {},
   "source": [
    "### Comparing hypothesis\n",
    "\n",
    "We compare the hypotheses with varying concentration parameters k."
   ]
  },
  {
   "cell_type": "code",
   "execution_count": 26,
   "metadata": {
    "collapsed": false
   },
   "outputs": [
    {
     "data": {
      "image/png": "[encoded data removed]",
      "text/plain": [
       "<matplotlib.figure.Figure at 0x7fee2c679b10>"
      ]
     },
     "metadata": {},
     "output_type": "display_data"
    }
   ],
   "source": [
    "%matplotlib inline\n",
    "import matplotlib.pyplot as plt\n",
    "\n",
    "fig = plt.figure()\n",
    "ax = fig.add_subplot(111)\n",
    "\n",
    "# uniform hypothesis\n",
    "evidences = []\n",
    "for k in xrange(0,6):\n",
    "    if k == 0:\n",
    "        evidences.append(ht.evidence(csr_matrix((ht.state_count,ht.state_count)),k))\n",
    "    else:\n",
    "        evidences.append(ht.evidence(hyp_uniform,k))\n",
    "ax.plot(np.arange(0,6), evidences, marker='o', clip_on = False, label=\"uniform\", linestyle='--')\n",
    "\n",
    "# structural hypothesis\n",
    "evidences = []\n",
    "for k in xrange(0,6):\n",
    "    if k == 0:\n",
    "        evidences.append(ht.evidence(csr_matrix((ht.state_count,ht.state_count)),k))\n",
    "    else:\n",
    "        evidences.append(ht.evidence(hyp_structural,k))\n",
    "ax.plot(np.arange(0,6), evidences, marker='o', clip_on = False, label=\"structural\", linestyle='--')\n",
    "\n",
    "# data hypothesis\n",
    "evidences = []\n",
    "for k in xrange(0,6):\n",
    "    if k == 0:\n",
    "        evidences.append(ht.evidence(csr_matrix((ht.state_count,ht.state_count)),k))\n",
    "    else:\n",
    "        evidences.append(ht.evidence(hyp_data,k))\n",
    "ax.plot(np.arange(0,6), evidences, marker='o', clip_on = False, label=\"data\", linestyle='--')\n",
    "\n",
    "# Further plotting\n",
    "ax.set_xlabel(\"hypothesis weighting factor k\")\n",
    "ax.set_ylabel(\"marginal likelihood / evidence (log)\")\n",
    "\n",
    "plt.legend(bbox_to_anchor=(1,0.8),loc=\"upper right\", handlelength = 3)\n",
    "plt.grid(False)\n",
    "ax.xaxis.grid(True)\n",
    "plt.tight_layout(pad=0.2)"
   ]
  },
  {
   "cell_type": "markdown",
   "metadata": {},
   "source": [
    "Overall, the results accurately represent what we expected as we know the underlying mechanisms producing the synthetic sequences at interest. We can see that the data hypothesis is the most plausible one which also was to be expected as it is built by taking the actual transitions from the data. The structural hypothesis represents a good explanation of the synthetically-produced sequences as it encodes the strategy of the walker---i.e., choosing any out-link at random at each step. "
   ]
  },
  {
   "cell_type": "markdown",
   "metadata": {},
   "source": [
    "## Wikispeedia human Web navigation example\n",
    "\n",
    "We now focus on an example of human Web navigation."
   ]
  },
  {
   "cell_type": "markdown",
   "metadata": {},
   "source": [
    "### Data\n",
    "\n",
    "As previously, we load our data into a list of lists where each element corresponds to a sequence."
   ]
  },
  {
   "cell_type": "code",
   "execution_count": 27,
   "metadata": {
    "collapsed": false
   },
   "outputs": [],
   "source": [
    "import csv\n",
    "sequences = []\n",
    "\n",
    "# from https://snap.stanford.edu/data/wikispeedia.html\n",
    "for line in csv.reader((row for row in open(\"data/paths_finished.tsv\") if not row.startswith('#')), delimiter='\\t'):\n",
    "    if len(line) == 0:\n",
    "        continue\n",
    "    seq = line[3].split(\";\")\n",
    "    # for simplicity, let us remove back clicks\n",
    "    seq = [x for x in seq if x != \"<\"]\n",
    "    sequences.append(seq)"
   ]
  },
  {
   "cell_type": "code",
   "execution_count": 28,
   "metadata": {
    "collapsed": false
   },
   "outputs": [
    {
     "name": "stdout",
     "output_type": "stream",
     "text": [
      "[['14th_century', '15th_century', '16th_century', 'Pacific_Ocean', 'Atlantic_Ocean', 'Accra', 'Africa', 'Atlantic_slave_trade', 'African_slave_trade'], ['14th_century', 'Europe', 'Africa', 'Atlantic_slave_trade', 'African_slave_trade'], ['14th_century', 'Niger', 'Nigeria', 'British_Empire', 'Slavery', 'Africa', 'Atlantic_slave_trade', 'African_slave_trade'], ['14th_century', 'Renaissance', 'Ancient_Greece', 'Greece'], ['14th_century', 'Italy', 'Roman_Catholic_Church', 'HIV', 'Ronald_Reagan', 'President_of_the_United_States', 'John_F._Kennedy'], ['14th_century', 'Europe', 'North_America', 'United_States', 'President_of_the_United_States', 'John_F._Kennedy'], ['14th_century', 'China', 'Gunpowder', 'Fire'], ['14th_century', 'Time', 'Isaac_Newton', 'Light', 'Color', 'Rainbow'], ['14th_century', 'Time', 'Light', 'Rainbow'], ['14th_century', '15th_century', 'Plato', 'Nature', 'Ultraviolet', 'Color', 'Rainbow']]\n"
     ]
    }
   ],
   "source": [
    "print sequences[:10]"
   ]
  },
  {
   "cell_type": "code",
   "execution_count": 29,
   "metadata": {
    "collapsed": false
   },
   "outputs": [
    {
     "data": {
      "text/plain": [
       "51318"
      ]
     },
     "execution_count": 29,
     "metadata": {},
     "output_type": "execute_result"
    }
   ],
   "source": [
    "len(sequences)"
   ]
  },
  {
   "cell_type": "markdown",
   "metadata": {},
   "source": [
    "### Fitting\n",
    "\n",
    "Before we pay attention to comparing hypotheses, we fit the Markov chain model to given Wikispeedia data."
   ]
  },
  {
   "cell_type": "code",
   "execution_count": 30,
   "metadata": {
    "collapsed": true
   },
   "outputs": [],
   "source": [
    "ht = HypTrails()\n",
    "ht.fit(sequences)"
   ]
  },
  {
   "cell_type": "markdown",
   "metadata": {},
   "source": [
    "### Hypotheses\n",
    "\n",
    "Now, let us specify some hypotheses for our Wikispeedia data at hand."
   ]
  },
  {
   "cell_type": "markdown",
   "metadata": {},
   "source": [
    "#### Uniform hypothesis\n",
    "\n",
    "We start with a uniform hypothesis where we equally believe in each transition. This can be seen as a baseline hypothesis."
   ]
  },
  {
   "cell_type": "code",
   "execution_count": 31,
   "metadata": {
    "collapsed": false
   },
   "outputs": [],
   "source": [
    "# we can use an empty matrix here as the HypTrails class then \n",
    "# properly distributes the chips for elicitation\n",
    "hyp_uniform = csr_matrix((ht.state_count,ht.state_count))"
   ]
  },
  {
   "cell_type": "markdown",
   "metadata": {},
   "source": [
    "#### Self-loop hypothesis\n",
    "\n",
    "This hypothesis just believes that people refresh the page over and over again."
   ]
  },
  {
   "cell_type": "code",
   "execution_count": 32,
   "metadata": {
    "collapsed": false
   },
   "outputs": [],
   "source": [
    "from scipy.sparse import lil_matrix\n",
    "\n",
    "# the hypothesis matrix simply has the diagonal set to 1\n",
    "hyp_selfloop = lil_matrix((ht.state_count,ht.state_count))\n",
    "hyp_selfloop.setdiag(1.)\n",
    "hyp_selfloop = hyp_selfloop.tocsr()"
   ]
  },
  {
   "cell_type": "markdown",
   "metadata": {},
   "source": [
    "#### Structural hypothesis\n",
    "\n",
    "One, potentially plausible, hypothesis could be that people prefer to navigate between pages if a hyperlinks between these pages exists. We can express this hypothesis by an adjacency matrix based on given underlying link network. If a link exists, we believe in given transition."
   ]
  },
  {
   "cell_type": "code",
   "execution_count": 33,
   "metadata": {
    "collapsed": false
   },
   "outputs": [],
   "source": [
    "i_indices = []\n",
    "j_indices = []\n",
    "values = []\n",
    "\n",
    "# read the links from file and build matrix\n",
    "for line in csv.reader((row for row in open(\"data/links.tsv\") if not row.startswith('#')), delimiter='\\t'):\n",
    "    if len(line) == 0:\n",
    "        continue\n",
    "    if line[0] in ht.vocab and line[1] in ht.vocab:\n",
    "        i_indices.append(ht.vocab[line[0]])\n",
    "        j_indices.append(ht.vocab[line[1]])\n",
    "        values.append(1.)\n",
    "        \n",
    "shape = (ht.state_count, ht.state_count)\n",
    "hyp_structural = csr_matrix((values, (i_indices, j_indices)),\n",
    "                         shape=shape)"
   ]
  },
  {
   "cell_type": "markdown",
   "metadata": {},
   "source": [
    "#### Semantic similarity hypothesis\n",
    "\n",
    "Finally, related work has proposed that humans prefer to navigate by semantic similarity between consecutive websites. We formalize this as a hypothesis based on textual tf-idf similarity between Wikipedia pages."
   ]
  },
  {
   "cell_type": "code",
   "execution_count": 34,
   "metadata": {
    "collapsed": false
   },
   "outputs": [],
   "source": [
    "from sklearn.feature_extraction.text import TfidfVectorizer\n",
    "\n",
    "articles = np.empty((ht.state_count,),dtype=object)\n",
    "\n",
    "# add the article text to the array\n",
    "for k,v in ht.vocab.iteritems():\n",
    "    articles[v] = open(\"data/plaintext_articles/\"+k+\".txt\").read()\n",
    "\n",
    "# build tf-idf features\n",
    "vect = TfidfVectorizer(max_df=0.8, sublinear_tf=True)\n",
    "X = vect.fit_transform(articles)\n",
    "\n",
    "# all-pairs cosine similarity\n",
    "hyp_similarity = X * X.T"
   ]
  },
  {
   "cell_type": "markdown",
   "metadata": {},
   "source": [
    "### Comparing hypotheses\n",
    "\n",
    "Now, let us compare the plausibility of given hypotheses given the data and some values of k."
   ]
  },
  {
   "cell_type": "code",
   "execution_count": 35,
   "metadata": {
    "collapsed": false,
    "scrolled": true
   },
   "outputs": [
    {
     "name": "stderr",
     "output_type": "stream",
     "text": [
      "/home/psinger/anaconda2/lib/python2.7/site-packages/scipy/sparse/compressed.py:730: SparseEfficiencyWarning: Changing the sparsity structure of a csr_matrix is expensive. lil_matrix is more efficient.\n",
      "  SparseEfficiencyWarning)\n"
     ]
    },
    {
     "data": {
      "image/png": "[encoded data removed]",
      "text/plain": [
       "<matplotlib.figure.Figure at 0x7fee0790d790>"
      ]
     },
     "metadata": {},
     "output_type": "display_data"
    }
   ],
   "source": [
    "%matplotlib inline\n",
    "import matplotlib.pyplot as plt\n",
    "\n",
    "fig = plt.figure()\n",
    "ax = fig.add_subplot(111)\n",
    "\n",
    "# uniform hypothesis\n",
    "evidences = []\n",
    "for k in xrange(0,6):\n",
    "    if k == 0:\n",
    "        evidences.append(ht.evidence(csr_matrix((ht.state_count,ht.state_count)),k))\n",
    "    else:\n",
    "        evidences.append(ht.evidence(hyp_uniform,k))\n",
    "ax.plot(np.arange(0,6), evidences, marker='o', clip_on = False, label=\"uniform\", linestyle='--')\n",
    "\n",
    "# self-loop hypothesis\n",
    "evidences = []\n",
    "for k in xrange(0,6):\n",
    "    if k == 0:\n",
    "        evidences.append(ht.evidence(csr_matrix((ht.state_count,ht.state_count)),k))\n",
    "    else:\n",
    "        evidences.append(ht.evidence(hyp_selfloop,k))\n",
    "ax.plot(np.arange(0,6), evidences, marker='o', clip_on = False, label=\"self-loop\", linestyle='--')\n",
    "\n",
    "# structural hypothesis\n",
    "evidences = []\n",
    "for k in xrange(0,6):\n",
    "    if k == 0:\n",
    "        evidences.append(ht.evidence(csr_matrix((ht.state_count,ht.state_count)),k))\n",
    "    else:\n",
    "        evidences.append(ht.evidence(hyp_structural,k))\n",
    "ax.plot(np.arange(0,6), evidences, marker='o', clip_on = False, label=\"structural\", linestyle='--')\n",
    "\n",
    "# semantic similarity hypothesis\n",
    "evidences = []\n",
    "for k in xrange(0,6):\n",
    "    if k == 0:\n",
    "        evidences.append(ht.evidence(csr_matrix((ht.state_count,ht.state_count)),k))\n",
    "    else:\n",
    "        evidences.append(ht.evidence(hyp_similarity,k))\n",
    "ax.plot(np.arange(0,6), evidences, marker='o', clip_on = False, label=\"sem. similarity\", linestyle='--')\n",
    "\n",
    "# further plotting\n",
    "ax.set_xlabel(\"hypothesis weighting factor k\")\n",
    "ax.set_ylabel(\"marginal likelihood / evidence (log)\")\n",
    "\n",
    "plt.legend(bbox_to_anchor=(1,0.8),loc=\"upper right\", handlelength = 3)\n",
    "plt.grid(False)\n",
    "ax.xaxis.grid(True)\n",
    "plt.tight_layout(pad=0.2)"
   ]
  },
  {
   "cell_type": "markdown",
   "metadata": {},
   "source": [
    "In above figure, we can see the results for comparing four hypotheses about the production of our sequences at interest; each hypothesis is depicted in a distinct color. The x-axis reports the hypothesis weighting factor k that corresponds to the level of belief in a given hypothesis---the higher the fewer parameter configurations receive corresponding belief in the Dirichlet prior. The y-axis reports the evidence. Note that for simplicity, we now state that higher evidence (for the same values of k) mean higher plausibility. For completeness, Bayes factors should be computed to judge the strength of the differences.\n",
    "\n",
    "Not surprisingly, the structural hypothesis is the most plausible one. After all, Wikispeedia players are only allowed to utilize hyperlinks for navigation. But, also the semantic similarity hypothesis is more plausible than the uniform hypothesis."
   ]
  },
  {
   "cell_type": "code",
   "execution_count": null,
   "metadata": {
    "collapsed": true
   },
   "outputs": [],
   "source": []
  }
 ],
 "metadata": {
  "kernelspec": {
   "display_name": "Python 2",
   "language": "python",
   "name": "python2"
  },
  "language_info": {
   "codemirror_mode": {
    "name": "ipython",
    "version": 2
   },
   "file_extension": ".py",
   "mimetype": "text/x-python",
   "name": "python",
   "nbconvert_exporter": "python",
   "pygments_lexer": "ipython2",
   "version": "2.7.11"
  }
 },
 "nbformat": 4,
 "nbformat_minor": 0
}
