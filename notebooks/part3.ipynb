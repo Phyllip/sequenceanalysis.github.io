{
 "cells": [
  {
   "cell_type": "markdown",
   "metadata": {},
   "source": [
    "# Markov chain modeling\n",
    "\n",
    "In this tutorial, we implement a Markov chain model that allows for different orders. We demonstrate the model on human navigation data derived from Wikispeedia."
   ]
  },
  {
   "cell_type": "markdown",
   "metadata": {},
   "source": [
    "## Markov chain model\n",
    "\n",
    "First, we implement the model"
   ]
  },
  {
   "cell_type": "code",
   "execution_count": 1,
   "metadata": {
    "collapsed": false
   },
   "outputs": [],
   "source": [
    "# further implementation can be found at https://github.com/psinger/PathTools\n",
    "\n",
    "from __future__ import division\n",
    "\n",
    "import itertools\n",
    "from scipy.sparse import csr_matrix\n",
    "from scipy.special import gammaln\n",
    "from scipy.stats import chi2\n",
    "from collections import defaultdict\n",
    "from sklearn.preprocessing import normalize\n",
    "import numpy as np\n",
    "\n",
    "class MarkovChain():\n",
    "    \"\"\"\n",
    "    Markov Chain Model\n",
    "    \"\"\"\n",
    "\n",
    "    # dummy constant for our reset state\n",
    "    RESET_STATE = \"-1\"\n",
    "\n",
    "    def __init__(self, order=1, reset=True):\n",
    "        \"\"\"\n",
    "        Constructor for class MarkovChain\n",
    "        \n",
    "        Args:\n",
    "            order: Order of Markov Chain model\n",
    "            reset: Boolean for using additional reset states\n",
    "        \"\"\"\n",
    "        self.order = order\n",
    "        self.reset = reset\n",
    "\n",
    "    def fit(self,sequences):\n",
    "        \"\"\"\n",
    "        Function for fitting the Markov Chain model given data\n",
    "        \n",
    "        Args:\n",
    "            sequences: Data of sequences, list of lists\n",
    "        \"\"\"\n",
    "        \n",
    "        # first, we derive all basic states from given sequences\n",
    "        states = set(itertools.chain.from_iterable(sequences))\n",
    "        self.state_count = len(states)\n",
    "        if self.reset:\n",
    "            self.state_count += 1\n",
    "\n",
    "        # dictionary of dictionaries for counting transitions between states\n",
    "        transitions = defaultdict(lambda : defaultdict(float))\n",
    "\n",
    "        # remember all start and target states that we observe\n",
    "        # this is just necessary for memory saving reasons\n",
    "        start_states = set()\n",
    "        target_states = set()\n",
    "\n",
    "        # iterate through sequences\n",
    "        for seq in sequences:\n",
    "            i = 0\n",
    "            # Prepend and append correct amount of reset states if flag set\n",
    "            if self.reset:\n",
    "                seq = self.order*[self.RESET_STATE] + seq + [self.RESET_STATE]\n",
    "            # iterate through elements of a sequence\n",
    "            for j in xrange(self.order, len(seq)):\n",
    "                # start state based on order\n",
    "                elemA = tuple(seq[i:j])\n",
    "                # target state based on order\n",
    "                elemB = tuple(seq[j-self.order+1:j+1])\n",
    "                i += 1\n",
    "\n",
    "                # increase transition count\n",
    "                transitions[elemA][elemB] += 1\n",
    "\n",
    "                # remember start and target states\n",
    "                start_states.add(elemA)\n",
    "                target_states.add(elemB)\n",
    "\n",
    "        # build vocabularies for mapping states to indices\n",
    "        self.start_vocab = dict((v,k) for k,v in enumerate(start_states))\n",
    "        self.target_vocab = dict((v,k) for k,v in enumerate(target_states))\n",
    "\n",
    "        # transform transition dictionary of dictionaries to sparse csr_matrix\n",
    "        i_indices = []\n",
    "        j_indices = []\n",
    "        values = []\n",
    "\n",
    "        for s,ts in transitions.iteritems():\n",
    "            for t,c in ts.iteritems():\n",
    "                i_indices.append(self.start_vocab[s])\n",
    "                j_indices.append(self.target_vocab[t])\n",
    "                values.append(c)\n",
    "        shape = (len(start_states), len(target_states))\n",
    "        self.transitions = csr_matrix((values, (i_indices, j_indices)),\n",
    "                                 shape=shape)\n",
    "\n",
    "        #print \"fit done\"\n",
    "\n",
    "    def loglikelihood(self):\n",
    "        \"\"\"\n",
    "        Returns the loglikelihood given fitted model\n",
    "        \n",
    "        Returns:\n",
    "            loglikelihood\n",
    "        \"\"\"\n",
    "        \n",
    "        # get mle by row-normalizing transition matrix\n",
    "        self.mle = normalize(self.transitions,norm=\"l1\",axis=1)\n",
    "        # log mle\n",
    "        mle_log = self.mle.copy()\n",
    "        mle_log.data = np.log(mle_log.data)\n",
    "        return self.transitions.multiply(mle_log).sum()\n",
    "\n",
    "    @staticmethod\n",
    "    def lrt(ln, pn, lt, pt):\n",
    "        \"\"\"\n",
    "        Performs a likelihood ratio test given a null and alternative model\n",
    "        \n",
    "        Args:\n",
    "            ln: loglikelihood of null model\n",
    "            pn: nr. of parameters of null model\n",
    "            lt: loglikelihood of alternative model\n",
    "            pt: nr. of parameters of alternative model\n",
    "        Returns:\n",
    "            lr: log-likelihood ratio\n",
    "            p_val: p value\n",
    "        \"\"\"\n",
    "        \n",
    "        # likelihood ratio\n",
    "        lr = float(-2*(ln-lt))\n",
    "        # degrees of freedom\n",
    "        dof = float(pt - pn)\n",
    "        # chi2 test\n",
    "        p_val = chi2.sf(lr,dof)\n",
    "        return lr, p_val\n",
    "\n",
    "    def aic(self):\n",
    "        \"\"\"\n",
    "        Determines the AIC given fitted model\n",
    "        \n",
    "        Returns:\n",
    "            aic\n",
    "        \"\"\"\n",
    "        ll = self.loglikelihood()\n",
    "        # parameter count of model\n",
    "        para = self.state_count**self.order*(self.state_count-1)\n",
    "        return 2*para - 2*ll\n",
    "\n",
    "    def bic(self):\n",
    "        \"\"\"\n",
    "        Determines the BIC given fitted model\n",
    "        \n",
    "        Returns:\n",
    "            bic\n",
    "        \"\"\"\n",
    "        ll = self.loglikelihood()\n",
    "        # parameter count of model\n",
    "        para = self.state_count**self.order*(self.state_count-1)\n",
    "        return para*np.log(self.transitions.sum()) - 2*ll\n",
    "\n",
    "    def evidence(self, prior=1.):\n",
    "        \"\"\"\n",
    "        Determines Bayesian evidence given fitted model\n",
    "        \n",
    "        Args:\n",
    "            prior: Dirichlet prior parameter (symmetric)\n",
    "        Returns:\n",
    "            evidence\n",
    "        \"\"\"\n",
    "\n",
    "        i_dim, j_dim = self.transitions.shape\n",
    "\n",
    "        # elegantly calculate evidence\n",
    "        evidence = 0\n",
    "        evidence += i_dim * gammaln(self.state_count*prior)\n",
    "        evidence -= gammaln(self.transitions.sum(axis=1)+self.state_count*prior).sum()\n",
    "        evidence += gammaln(self.transitions.data+prior).sum()\n",
    "        evidence -= len(self.transitions.data) * gammaln(prior)\n",
    "\n",
    "        return evidence"
   ]
  },
  {
   "cell_type": "markdown",
   "metadata": {
    "collapsed": true
   },
   "source": [
    "## Slides example\n",
    "\n",
    "For a first demonstration, we present the example from the slides consisting of blue and yellow states."
   ]
  },
  {
   "cell_type": "markdown",
   "metadata": {},
   "source": [
    "### Data"
   ]
  },
  {
   "cell_type": "code",
   "execution_count": 2,
   "metadata": {
    "collapsed": true
   },
   "outputs": [],
   "source": [
    "sequences = [[\"b\",\"b\",\"b\",\"y\",\"y\",\"b\",\"y\",\"b\",\"b\",\"b\",\"b\"]]"
   ]
  },
  {
   "cell_type": "markdown",
   "metadata": {},
   "source": [
    "### Fitting\n",
    "\n",
    "We fit both a first and second order model and print the transition matrices."
   ]
  },
  {
   "cell_type": "code",
   "execution_count": 3,
   "metadata": {
    "collapsed": false
   },
   "outputs": [
    {
     "name": "stdout",
     "output_type": "stream",
     "text": [
      "First-order model\n",
      "[[ 1.  2.  0.]\n",
      " [ 2.  5.  1.]\n",
      " [ 0.  1.  0.]]\n",
      "---------\n",
      "Second-order model\n",
      "[[ 0.  0.  0.  0.  1.  1.]\n",
      " [ 1.  3.  0.  1.  0.  0.]\n",
      " [ 0.  1.  0.  0.  0.  0.]\n",
      " [ 0.  0.  1.  0.  0.  0.]\n",
      " [ 1.  1.  0.  0.  0.  0.]\n",
      " [ 0.  0.  0.  0.  1.  0.]]\n"
     ]
    }
   ],
   "source": [
    "print \"First-order model\"\n",
    "mc1 = MarkovChain(reset=True, order=1)\n",
    "mc1.fit(sequences)\n",
    "print mc1.transitions.todense()\n",
    "\n",
    "print \"---------\"\n",
    "print \"Second-order model\"\n",
    "mc2 = MarkovChain(reset=True, order=2)\n",
    "mc2.fit(sequences)\n",
    "print mc2.transitions.todense()"
   ]
  },
  {
   "cell_type": "markdown",
   "metadata": {},
   "source": [
    "### Model selection\n",
    "\n",
    "Next, let us compare the two models."
   ]
  },
  {
   "cell_type": "code",
   "execution_count": 4,
   "metadata": {
    "collapsed": false
   },
   "outputs": [
    {
     "name": "stdout",
     "output_type": "stream",
     "text": [
      "First-order model\n",
      "Log-likelihood: -9.11159091503\n",
      "Evidence: -13.4304361395\n",
      "AIC: 30.2231818301\n",
      "BIC: 33.1326217288\n",
      "---------\n",
      "Second-order model\n",
      "Log-likelihood: -7.52394141841\n",
      "Evidence: -14.3059048769\n",
      "AIC: 51.0478828368\n",
      "BIC: 59.776202533\n"
     ]
    }
   ],
   "source": [
    "\n",
    "print \"First-order model\"\n",
    "print \"Log-likelihood:\", mc1.loglikelihood()\n",
    "print \"Evidence:\", mc1.evidence()\n",
    "print \"AIC:\", mc1.aic()\n",
    "print \"BIC:\", mc1.bic()\n",
    "\n",
    "print \"---------\"\n",
    "print \"Second-order model\"\n",
    "\n",
    "print \"Log-likelihood:\", mc2.loglikelihood()\n",
    "print \"Evidence:\", mc2.evidence()\n",
    "print \"AIC:\", mc2.aic()\n",
    "print \"BIC:\", mc2.bic()"
   ]
  },
  {
   "cell_type": "markdown",
   "metadata": {},
   "source": [
    "The simpler, first-order model is to be preferred."
   ]
  },
  {
   "cell_type": "markdown",
   "metadata": {},
   "source": [
    "## Synthetic example\n",
    "\n",
    "Now, let us generate synthetic data with given memory. We always start with the state \"A\" and add additional \"B\" states based on a given memory. Then, we repeat this process 1000 times. For example, for a simple Markovian first-order process, we would produce \"ABABABAB...\". For a third-order process we would produce \"ABBBABBB...\". Then, the model comparison criteria correctly determine corresponding Markov chain model as the most appropriate ones."
   ]
  },
  {
   "cell_type": "code",
   "execution_count": 12,
   "metadata": {
    "collapsed": false
   },
   "outputs": [
    {
     "data": {
      "image/png": "[encoded data removed]",
      "text/plain": [
       "<matplotlib.figure.Figure at 0x7f0e4c6533d0>"
      ]
     },
     "metadata": {},
     "output_type": "display_data"
    },
    {
     "data": {
      "image/png": "[encoded data removed]",
      "text/plain": [
       "<matplotlib.figure.Figure at 0x7f0e1ea45cd0>"
      ]
     },
     "metadata": {},
     "output_type": "display_data"
    },
    {
     "data": {
      "image/png": "[encoded data removed]",
      "text/plain": [
       "<matplotlib.figure.Figure at 0x7f0e1ea45d90>"
      ]
     },
     "metadata": {},
     "output_type": "display_data"
    },
    {
     "data": {
      "image/png": "[encoded data removed]",
      "text/plain": [
       "<matplotlib.figure.Figure at 0x7f0e21e05b10>"
      ]
     },
     "metadata": {},
     "output_type": "display_data"
    }
   ],
   "source": [
    "%matplotlib inline\n",
    "import matplotlib.pyplot as plt\n",
    "\n",
    "for o in xrange(1,5):\n",
    "    sample = [([\"A\"]+[\"B\"]*o)*1000]\n",
    "\n",
    "    loglikelihoods = []\n",
    "    aics = []\n",
    "    bics = []\n",
    "    evidences = []\n",
    "    \n",
    "    max_order = 5\n",
    "    fig = plt.figure()\n",
    "\n",
    "    for i in xrange(1,max_order+1):\n",
    "        mc = MarkovChain(reset=True, order=i)\n",
    "        mc.fit(sample)\n",
    "        loglikelihoods.append(mc.loglikelihood())\n",
    "        aics.append(mc.aic())\n",
    "        bics.append(mc.bic())\n",
    "        evidences.append(mc.evidence())\n",
    "    \n",
    "    # let us just plot the evidences here, the other criteria confirm these results\n",
    "    ax = fig.add_subplot(111)\n",
    "    ax.plot(xrange(1,max_order+1), evidences)\n",
    "    max_index = evidences.index(max(evidences))\n",
    "    ax.plot((xrange(1,max_order+1))[max_index], evidences[max_index], 'rD', clip_on = False)\n",
    "    ax.set_title(sample[0][:o+1])\n",
    "\n"
   ]
  },
  {
   "cell_type": "markdown",
   "metadata": {},
   "source": [
    "As expected, the modeling selection techniques also indicate those orders as the most plausible after which the data has been generated."
   ]
  },
  {
   "cell_type": "markdown",
   "metadata": {},
   "source": [
    "## Wikispeedia human Web navigation example\n",
    "\n",
    "We now focus on an example of human Web navigation."
   ]
  },
  {
   "cell_type": "markdown",
   "metadata": {},
   "source": [
    "### Data\n",
    "\n",
    "We load our data into a list of lists where each element corresponds to a sequence."
   ]
  },
  {
   "cell_type": "code",
   "execution_count": 6,
   "metadata": {
    "collapsed": false
   },
   "outputs": [],
   "source": [
    "import csv\n",
    "sequences = []\n",
    "\n",
    "# from https://snap.stanford.edu/data/wikispeedia.html\n",
    "for line in csv.reader((row for row in open(\"data/paths_finished.tsv\") if not row.startswith('#')), delimiter='\\t'):\n",
    "    if len(line) == 0:\n",
    "        continue\n",
    "    # for simplicity, let us remove back clicks\n",
    "    seq = line[3].split(\";\")\n",
    "    # for simplicity, let us remove back clicks\n",
    "    seq = [x for x in seq if x != \"<\"]\n",
    "    sequences.append(seq)"
   ]
  },
  {
   "cell_type": "code",
   "execution_count": 7,
   "metadata": {
    "collapsed": false
   },
   "outputs": [
    {
     "name": "stdout",
     "output_type": "stream",
     "text": [
      "[['14th_century', '15th_century', '16th_century', 'Pacific_Ocean', 'Atlantic_Ocean', 'Accra', 'Africa', 'Atlantic_slave_trade', 'African_slave_trade'], ['14th_century', 'Europe', 'Africa', 'Atlantic_slave_trade', 'African_slave_trade'], ['14th_century', 'Niger', 'Nigeria', 'British_Empire', 'Slavery', 'Africa', 'Atlantic_slave_trade', 'African_slave_trade'], ['14th_century', 'Renaissance', 'Ancient_Greece', 'Greece'], ['14th_century', 'Italy', 'Roman_Catholic_Church', 'HIV', 'Ronald_Reagan', 'President_of_the_United_States', 'John_F._Kennedy'], ['14th_century', 'Europe', 'North_America', 'United_States', 'President_of_the_United_States', 'John_F._Kennedy'], ['14th_century', 'China', 'Gunpowder', 'Fire'], ['14th_century', 'Time', 'Isaac_Newton', 'Light', 'Color', 'Rainbow'], ['14th_century', 'Time', 'Light', 'Rainbow'], ['14th_century', '15th_century', 'Plato', 'Nature', 'Ultraviolet', 'Color', 'Rainbow']]\n"
     ]
    }
   ],
   "source": [
    "print sequences[:10]"
   ]
  },
  {
   "cell_type": "code",
   "execution_count": 8,
   "metadata": {
    "collapsed": false
   },
   "outputs": [
    {
     "data": {
      "text/plain": [
       "51318"
      ]
     },
     "execution_count": 8,
     "metadata": {},
     "output_type": "execute_result"
    }
   ],
   "source": [
    "len(sequences)"
   ]
  },
  {
   "cell_type": "markdown",
   "metadata": {},
   "source": [
    "### Fitting\n",
    "\n",
    "We now fit the Markov chain model to the data. We vary the order from 1 to 5. Additionally, we determine all model comparison techniques and store them for each order at hand."
   ]
  },
  {
   "cell_type": "code",
   "execution_count": 9,
   "metadata": {
    "collapsed": false
   },
   "outputs": [],
   "source": [
    "loglikelihoods = []\n",
    "aics = []\n",
    "bics = []\n",
    "evidences = []\n",
    "lrts = []\n",
    "\n",
    "max_order = 5\n",
    "\n",
    "for i in xrange(1,max_order+1):\n",
    "    mc = MarkovChain(reset=True, order=i)\n",
    "    mc.fit(sequences)\n",
    "    loglikelihoods.append(mc.loglikelihood())\n",
    "    aics.append(mc.aic())\n",
    "    bics.append(mc.bic())\n",
    "    evidences.append(mc.evidence())\n",
    "\n",
    "for i, ln in enumerate(loglikelihoods):\n",
    "    for j, lt in enumerate(loglikelihoods[i+1:]):\n",
    "        lrt = mc.lrt(ln, mc.state_count**(i+1)*(mc.state_count-1), lt, mc.state_count**(i+1+j+1)*(mc.state_count-1))\n",
    "        lrts.append([str(i+1)+\" vs. \"+str(i+1+j+1),lrt[0],lrt[1]])"
   ]
  },
  {
   "cell_type": "markdown",
   "metadata": {},
   "source": [
    "### Model Selection\n",
    "\n",
    "Next, we select the most appropriate model."
   ]
  },
  {
   "cell_type": "markdown",
   "metadata": {},
   "source": [
    "#### Likelihood ratio test\n",
    "\n",
    "Perform likelihood ratio test between all fits"
   ]
  },
  {
   "cell_type": "code",
   "execution_count": 10,
   "metadata": {
    "collapsed": false
   },
   "outputs": [
    {
     "name": "stdout",
     "output_type": "stream",
     "text": [
      "orders |  likelihood ratio |  p-value\n",
      "1 vs. 2 | 862481.65175 | 1.0\n",
      "1 vs. 3 | 1405620.38073 | 1.0\n",
      "1 vs. 4 | 1538326.871 | 1.0\n",
      "1 vs. 5 | 1558210.23636 | 1.0\n",
      "2 vs. 3 | 543138.728976 | 1.0\n",
      "2 vs. 4 | 675845.219245 | 1.0\n",
      "2 vs. 5 | 695728.584614 | 1.0\n",
      "3 vs. 4 | 132706.490269 | 1.0\n",
      "3 vs. 5 | 152589.855638 | 1.0\n",
      "4 vs. 5 | 19883.3653686 | 1.0\n"
     ]
    }
   ],
   "source": [
    "print \"orders | \", \"likelihood ratio | \", \"p-value\"\n",
    "for x in lrts:\n",
    "    print \" | \".join([str(k) for k in x])"
   ]
  },
  {
   "cell_type": "markdown",
   "metadata": {},
   "source": [
    "#### AIC, BIC and Evidence\n",
    "\n",
    "Now, we determine the AIC, BIC and Evidence for all fits. Additionally, we plot the simple log-likelihood of the fits."
   ]
  },
  {
   "cell_type": "code",
   "execution_count": 11,
   "metadata": {
    "collapsed": false
   },
   "outputs": [
    {
     "data": {
      "image/png": "[encoded data removed]",
      "text/plain": [
       "<matplotlib.figure.Figure at 0x7f0e4d361050>"
      ]
     },
     "metadata": {},
     "output_type": "display_data"
    }
   ],
   "source": [
    "f, ((ax1, ax2), (ax3, ax4)) = plt.subplots(2,2,figsize=(8,6))\n",
    "\n",
    "x = xrange(1,max_order+1)\n",
    "\n",
    "ax1.plot(x, loglikelihoods)\n",
    "max_index = loglikelihoods.index(max(loglikelihoods))\n",
    "ax1.plot(x[max_index], loglikelihoods[max_index], 'rD', clip_on = False)\n",
    "ax1.set_ylabel(\"Log-likelihood\")\n",
    "ax2.plot(x, aics)\n",
    "min_index = aics.index(min(aics))\n",
    "ax2.plot(x[min_index], aics[min_index], 'rD', clip_on = False)\n",
    "ax2.set_ylabel(\"AIC\")\n",
    "ax3.plot(x, bics)\n",
    "min_index = bics.index(min(bics))\n",
    "ax3.plot(x[min_index], bics[min_index], 'rD', clip_on = False)\n",
    "ax3.set_ylabel(\"BIC\")\n",
    "ax4.plot(x, evidences)\n",
    "max_index = evidences.index(max(evidences))\n",
    "ax4.plot(x[max_index], evidences[max_index], 'rD', clip_on = False)\n",
    "ax4.set_ylabel(\"Evidence\")\n",
    "\n",
    "plt.tight_layout()"
   ]
  },
  {
   "cell_type": "markdown",
   "metadata": {},
   "source": [
    "#### Summary\n",
    "\n",
    "All modeling comparison techniques indicate that a first-order Markov chain model sufficiently models given data. While higher order models always produce better fits due to nested models, their increasing number of necessary parameters does not fully justify their increasing complexity. However, with less states and/or more data, this might be different."
   ]
  }
 ],
 "metadata": {
  "kernelspec": {
   "display_name": "Python 2",
   "language": "python",
   "name": "python2"
  },
  "language_info": {
   "codemirror_mode": {
    "name": "ipython",
    "version": 2
   },
   "file_extension": ".py",
   "mimetype": "text/x-python",
   "name": "python",
   "nbconvert_exporter": "python",
   "pygments_lexer": "ipython2",
   "version": "2.7.11"
  }
 },
 "nbformat": 4,
 "nbformat_minor": 0
}
